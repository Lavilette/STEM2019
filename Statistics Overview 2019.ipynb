{
 "cells": [
  {
   "cell_type": "markdown",
   "metadata": {},
   "source": [
    "# We have been working with several of Python's libraries that were developed to work with numerical arrays and data manipulation.  These are *numpy* and *pandas* respectively"
   ]
  },
  {
   "cell_type": "markdown",
   "metadata": {},
   "source": [
    "# *numpy*, short for numerical Python introduces the ndarray[] and great functionality for working with arrays of numbers.  *pandas* builds on *numpy* and provides the DataFrame -- a flexible object for storing data.  *pandas* includes many methods to manipulate DataFrames.  It also provides the Series object which is a column (or vector) of data"
   ]
  },
  {
   "cell_type": "code",
   "execution_count": null,
   "metadata": {},
   "outputs": [],
   "source": []
  },
  {
   "cell_type": "code",
   "execution_count": 1,
   "metadata": {},
   "outputs": [],
   "source": [
    "# import the modules we need\n",
    "# using 'as' allows us to use an alias\n",
    "import numpy as np\n",
    "import pandas as pd\n",
    "import scipy as sp\n",
    "from scipy import stats\n",
    "import statistics as s\n",
    "import matplotlib as mp\n",
    "import matplotlib.pyplot as plt\n",
    "import seaborn as sns\n",
    "sns.set()"
   ]
  },
  {
   "cell_type": "code",
   "execution_count": 2,
   "metadata": {},
   "outputs": [
    {
     "data": {
      "text/plain": [
       "16"
      ]
     },
     "execution_count": 2,
     "metadata": {},
     "output_type": "execute_result"
    }
   ],
   "source": [
    "# create an array -- this is one dimensional like a vector\n",
    "# numpy defines the ndarray -- an n-dimensional array\n",
    "x = np.array([1, 2, 3, 7, 4, 5, 4, 6, 8, 10, 3, 4, 4, 3, 4, 5])\n",
    "len(x)"
   ]
  },
  {
   "cell_type": "code",
   "execution_count": 3,
   "metadata": {},
   "outputs": [
    {
     "data": {
      "text/plain": [
       "4.87109375"
      ]
     },
     "execution_count": 3,
     "metadata": {},
     "output_type": "execute_result"
    }
   ],
   "source": [
    "np.var(x) # population variance "
   ]
  },
  {
   "cell_type": "code",
   "execution_count": 4,
   "metadata": {},
   "outputs": [
    {
     "ename": "AttributeError",
     "evalue": "module 'statistics' has no attribute 'var'",
     "output_type": "error",
     "traceback": [
      "\u001b[1;31m---------------------------------------------------------------------------\u001b[0m",
      "\u001b[1;31mAttributeError\u001b[0m                            Traceback (most recent call last)",
      "\u001b[1;32m<ipython-input-4-657992c91807>\u001b[0m in \u001b[0;36m<module>\u001b[1;34m\u001b[0m\n\u001b[1;32m----> 1\u001b[1;33m \u001b[0ms\u001b[0m\u001b[1;33m.\u001b[0m\u001b[0mvar\u001b[0m\u001b[1;33m(\u001b[0m\u001b[0mx\u001b[0m\u001b[1;33m)\u001b[0m  \u001b[1;31m## Error -- no var() in statistics module\u001b[0m\u001b[1;33m\u001b[0m\u001b[1;33m\u001b[0m\u001b[0m\n\u001b[0m",
      "\u001b[1;31mAttributeError\u001b[0m: module 'statistics' has no attribute 'var'"
     ]
    }
   ],
   "source": [
    "s.var(x)  ## Error -- no var() in statistics module"
   ]
  },
  {
   "cell_type": "code",
   "execution_count": 5,
   "metadata": {},
   "outputs": [
    {
     "data": {
      "text/plain": [
       "4.5625"
      ]
     },
     "execution_count": 5,
     "metadata": {},
     "output_type": "execute_result"
    }
   ],
   "source": [
    "# display the mean\n",
    "# either use the mean() method with instance x\n",
    "# or call it using np explicity and pasing x as a parameter\n",
    "# or use the built-in mean from the statistics module\n",
    "x.mean()"
   ]
  },
  {
   "cell_type": "code",
   "execution_count": 6,
   "metadata": {},
   "outputs": [
    {
     "data": {
      "text/plain": [
       "4.5625"
      ]
     },
     "execution_count": 6,
     "metadata": {},
     "output_type": "execute_result"
    }
   ],
   "source": [
    "np.mean(x)"
   ]
  },
  {
   "cell_type": "code",
   "execution_count": 8,
   "metadata": {},
   "outputs": [
    {
     "data": {
      "text/plain": [
       "4.0"
      ]
     },
     "execution_count": 8,
     "metadata": {},
     "output_type": "execute_result"
    }
   ],
   "source": [
    "s.mean(x).astype(float)"
   ]
  },
  {
   "cell_type": "code",
   "execution_count": 10,
   "metadata": {},
   "outputs": [
    {
     "name": "stdout",
     "output_type": "stream",
     "text": [
      "1.0\n"
     ]
    },
    {
     "data": {
      "text/plain": [
       "4.374083129584353"
      ]
     },
     "execution_count": 10,
     "metadata": {},
     "output_type": "execute_result"
    }
   ],
   "source": [
    "# weighted mean\n",
    "weights=[0.0625, 0.0625,0.1,0.0025,0.0625,0.1225,0.025,0.0625,0.0625,0.0625,0.0625,0.0625,0.0625,\n",
    "                       0.0625,0.0625,0.0625]\n",
    "print(sum(weights))\n",
    "np.average(x, weights=[0.0625, 0.0625,0.1225,0.0025,0.0625,0.1225,0.025,0.0625,0.0625,0.0625,0.0625,0.0625,0.0625,\n",
    "                       0.0625,0.0625,0.0625])"
   ]
  },
  {
   "cell_type": "code",
   "execution_count": 11,
   "metadata": {},
   "outputs": [
    {
     "name": "stdout",
     "output_type": "stream",
     "text": [
      "2.2071\n",
      "2.2071\n",
      "2.2361\n"
     ]
    }
   ],
   "source": [
    "# standard deviation\n",
    "# we can use print to format our output\n",
    "print('%.4f' % x.std())\n",
    "print('%.4f' % np.std(x))\n",
    "print('%.4f' % s.stdev(x))"
   ]
  },
  {
   "cell_type": "code",
   "execution_count": 12,
   "metadata": {},
   "outputs": [
    {
     "name": "stdout",
     "output_type": "stream",
     "text": [
      "2.2071\n"
     ]
    }
   ],
   "source": [
    "# let's take another look explicitly calculating the variance\n",
    "y = (x-x.mean())**2\n",
    "z = (y.sum()/len(x))**(0.5)\n",
    "print('%.4f' % z)"
   ]
  },
  {
   "cell_type": "code",
   "execution_count": 13,
   "metadata": {},
   "outputs": [
    {
     "name": "stdout",
     "output_type": "stream",
     "text": [
      "2.2794\n",
      "2.2794\n"
     ]
    }
   ],
   "source": [
    "# notice np.std() divides by n by default which gives us the population variance\n",
    "# change the parameter ddof=1 to divide by n-1 for an unbiased sample standard deviation\n",
    "print('%.4f' % x.std(ddof=1))\n",
    "print('%.4f' % np.std(x, ddof=1))"
   ]
  },
  {
   "cell_type": "code",
   "execution_count": 14,
   "metadata": {},
   "outputs": [
    {
     "name": "stdout",
     "output_type": "stream",
     "text": [
      "2.2794\n"
     ]
    }
   ],
   "source": [
    "# check it 'by hand'\n",
    "w = (y.sum()/(len(x)-1))**(0.5)\n",
    "print('%.4f' % w)"
   ]
  },
  {
   "cell_type": "code",
   "execution_count": 15,
   "metadata": {},
   "outputs": [
    {
     "name": "stdout",
     "output_type": "stream",
     "text": [
      "4.0\n",
      "4.0\n"
     ]
    }
   ],
   "source": [
    "# find the median of the data -- the middle value\n",
    "print(np.median(x))\n",
    "print(s.median(x))"
   ]
  },
  {
   "cell_type": "code",
   "execution_count": 16,
   "metadata": {},
   "outputs": [
    {
     "ename": "AttributeError",
     "evalue": "'numpy.ndarray' object has no attribute 'median'",
     "output_type": "error",
     "traceback": [
      "\u001b[1;31m---------------------------------------------------------------------------\u001b[0m",
      "\u001b[1;31mAttributeError\u001b[0m                            Traceback (most recent call last)",
      "\u001b[1;32m<ipython-input-16-3e25f1462fa6>\u001b[0m in \u001b[0;36m<module>\u001b[1;34m\u001b[0m\n\u001b[0;32m      1\u001b[0m \u001b[1;31m# Note that x.median() does not work\u001b[0m\u001b[1;33m\u001b[0m\u001b[1;33m\u001b[0m\u001b[1;33m\u001b[0m\u001b[0m\n\u001b[1;32m----> 2\u001b[1;33m \u001b[0mx\u001b[0m\u001b[1;33m.\u001b[0m\u001b[0mmedian\u001b[0m\u001b[1;33m(\u001b[0m\u001b[1;33m)\u001b[0m  \u001b[1;31m## Throws an error\u001b[0m\u001b[1;33m\u001b[0m\u001b[1;33m\u001b[0m\u001b[0m\n\u001b[0m",
      "\u001b[1;31mAttributeError\u001b[0m: 'numpy.ndarray' object has no attribute 'median'"
     ]
    }
   ],
   "source": [
    "# Note that x.median() does not work\n",
    "x.median()  ## Throws an error"
   ]
  },
  {
   "cell_type": "code",
   "execution_count": 18,
   "metadata": {},
   "outputs": [
    {
     "ename": "AttributeError",
     "evalue": "module 'numpy' has no attribute 'mode'",
     "output_type": "error",
     "traceback": [
      "\u001b[1;31m---------------------------------------------------------------------------\u001b[0m",
      "\u001b[1;31mAttributeError\u001b[0m                            Traceback (most recent call last)",
      "\u001b[1;32m<ipython-input-18-6422bc01290e>\u001b[0m in \u001b[0;36m<module>\u001b[1;34m\u001b[0m\n\u001b[0;32m      1\u001b[0m \u001b[1;31m# and the mode -- the most frequently occurring value\u001b[0m\u001b[1;33m\u001b[0m\u001b[1;33m\u001b[0m\u001b[1;33m\u001b[0m\u001b[0m\n\u001b[1;32m----> 2\u001b[1;33m \u001b[0mnp\u001b[0m\u001b[1;33m.\u001b[0m\u001b[0mmode\u001b[0m\u001b[1;33m(\u001b[0m\u001b[0mx\u001b[0m\u001b[1;33m)\u001b[0m  \u001b[1;31m## Error!  NumPy does not have a mode()\u001b[0m\u001b[1;33m\u001b[0m\u001b[1;33m\u001b[0m\u001b[0m\n\u001b[0m",
      "\u001b[1;31mAttributeError\u001b[0m: module 'numpy' has no attribute 'mode'"
     ]
    }
   ],
   "source": [
    "# and the mode -- the most frequently occurring value\n",
    "np.mode(x)  ## Error!  NumPy does not have a mode()"
   ]
  },
  {
   "cell_type": "code",
   "execution_count": 19,
   "metadata": {},
   "outputs": [
    {
     "ename": "AttributeError",
     "evalue": "'numpy.ndarray' object has no attribute 'mode'",
     "output_type": "error",
     "traceback": [
      "\u001b[1;31m---------------------------------------------------------------------------\u001b[0m",
      "\u001b[1;31mAttributeError\u001b[0m                            Traceback (most recent call last)",
      "\u001b[1;32m<ipython-input-19-f790f4b9df57>\u001b[0m in \u001b[0;36m<module>\u001b[1;34m\u001b[0m\n\u001b[1;32m----> 1\u001b[1;33m \u001b[0mx\u001b[0m\u001b[1;33m.\u001b[0m\u001b[0mmode\u001b[0m\u001b[1;33m(\u001b[0m\u001b[1;33m)\u001b[0m \u001b[1;31m## This doesn't work either\u001b[0m\u001b[1;33m\u001b[0m\u001b[1;33m\u001b[0m\u001b[0m\n\u001b[0m",
      "\u001b[1;31mAttributeError\u001b[0m: 'numpy.ndarray' object has no attribute 'mode'"
     ]
    }
   ],
   "source": [
    "x.mode() ## This doesn't work either"
   ]
  },
  {
   "cell_type": "code",
   "execution_count": 20,
   "metadata": {},
   "outputs": [
    {
     "data": {
      "text/plain": [
       "4"
      ]
     },
     "execution_count": 20,
     "metadata": {},
     "output_type": "execute_result"
    }
   ],
   "source": [
    "s.mode(x)"
   ]
  },
  {
   "cell_type": "code",
   "execution_count": 21,
   "metadata": {},
   "outputs": [
    {
     "name": "stdout",
     "output_type": "stream",
     "text": [
      "6.2\t6.5\t3.6454\n"
     ]
    }
   ],
   "source": [
    "# you can set the precision of the output\n",
    "np.set_printoptions(precision=4) \n",
    "\n",
    "# create a two dimensional array\n",
    "# summary stats for the entire array\n",
    "# x2 has two rows and five columns\n",
    "x2 = np.array([[1, 2, 3, 4, 6], [7, 8, 10, 9, 12]])\n",
    "print(np.mean(x2), np.median(x2), '%.4f' % np.std(x2, ddof=1), sep='\\t') "
   ]
  },
  {
   "cell_type": "code",
   "execution_count": 22,
   "metadata": {},
   "outputs": [
    {
     "name": "stdout",
     "output_type": "stream",
     "text": [
      "[4.  5.  6.5 6.5 9. ]\t[4.  5.  6.5 6.5 9. ]\t[4.2426 4.2426 4.9497 3.5355 4.2426]\n",
      "[3.2 9.2]\t[3. 9.]\t[1.9235 1.9235]\n"
     ]
    }
   ],
   "source": [
    "# summary stats column wise - set axis = 0\n",
    "print(np.mean(x2, axis=0), np.median(x2, axis=0), np.std(x2, ddof=1, axis=0), sep='\\t')\n",
    "\n",
    "# row wise  - set axis = 1 -- print formatting retained\n",
    "print(np.mean(x2, axis=1), np.median(x2, axis=1), np.std(x2, ddof=1, axis=1), sep='\\t')"
   ]
  },
  {
   "cell_type": "code",
   "execution_count": 23,
   "metadata": {},
   "outputs": [
    {
     "data": {
      "text/plain": [
       "count    16.000000\n",
       "mean      4.562500\n",
       "std       2.279437\n",
       "min       1.000000\n",
       "25%       3.000000\n",
       "50%       4.000000\n",
       "75%       5.250000\n",
       "max      10.000000\n",
       "dtype: float64"
      ]
     },
     "execution_count": 23,
     "metadata": {},
     "output_type": "execute_result"
    }
   ],
   "source": [
    "# Create a pandas Series -- a one dimensional array (aka a vector)\n",
    "# then display the summary statistics\n",
    "y = pd.Series(x)\n",
    "y.describe()"
   ]
  },
  {
   "cell_type": "code",
   "execution_count": 24,
   "metadata": {},
   "outputs": [
    {
     "data": {
      "text/plain": [
       "DescribeResult(nobs=16, minmax=(1, 10), mean=4.5625, variance=5.195833333333334, skewness=0.8408279053105321, kurtosis=0.3611104501645972)"
      ]
     },
     "execution_count": 24,
     "metadata": {},
     "output_type": "execute_result"
    }
   ],
   "source": [
    "# scipy stats also has a describe() method\n",
    "# displays summary statistics\n",
    "sp.stats.describe(x) "
   ]
  },
  {
   "cell_type": "code",
   "execution_count": 25,
   "metadata": {},
   "outputs": [
    {
     "name": "stdout",
     "output_type": "stream",
     "text": [
      "6.2\t6.5\t3.6454\n"
     ]
    }
   ],
   "source": [
    "# create a two dimensional array\n",
    "# summary stats for the entire array\n",
    "import numpy as np\n",
    "x2 = np.array([[1, 2, 3, 4, 6], [7, 8, 10, 9, 12]])\n",
    "print(np.mean(x2), np.median(x2), '%.4f' % np.std(x2, ddof=1), sep='\\t') "
   ]
  },
  {
   "cell_type": "code",
   "execution_count": 26,
   "metadata": {},
   "outputs": [
    {
     "data": {
      "text/plain": [
       "array([[1.    , 0.9324],\n",
       "       [0.9324, 1.    ]])"
      ]
     },
     "execution_count": 26,
     "metadata": {},
     "output_type": "execute_result"
    }
   ],
   "source": [
    "# we can calculate the correlation in several ways as well\n",
    "# np.corrcoef rreturns an np array\n",
    "np.corrcoef(x2)"
   ]
  },
  {
   "cell_type": "code",
   "execution_count": 27,
   "metadata": {},
   "outputs": [
    {
     "name": "stdout",
     "output_type": "stream",
     "text": [
      "rho = 0.9324 p-val = 0.0209\n"
     ]
    }
   ],
   "source": [
    "# calculate Pearson's rho and the p-value\n",
    "# the p-value suggest the corelation is statistically significant\n",
    "import scipy as sp\n",
    "rho, pstat = sp.stats.pearsonr(x2[0, ], x2[1, ])\n",
    "print('rho = %.4f' % rho, 'p-val = %.4f' % pstat)"
   ]
  },
  {
   "cell_type": "code",
   "execution_count": 28,
   "metadata": {},
   "outputs": [
    {
     "name": "stdout",
     "output_type": "stream",
     "text": [
      "t-stat = -4.932  p-value = 0.001\n"
     ]
    }
   ],
   "source": [
    "# compare sample means\n",
    "tstat, pval = sp.stats.ttest_ind(x2[0], x2[1])\n",
    "print('t-stat = %.3f ' % tstat, 'p-value = %.3f' % pval)"
   ]
  },
  {
   "cell_type": "code",
   "execution_count": 29,
   "metadata": {},
   "outputs": [
    {
     "data": {
      "text/html": [
       "<table class=\"simpletable\">\n",
       "<caption>OLS Regression Results</caption>\n",
       "<tr>\n",
       "  <th>Dep. Variable:</th>            <td>y</td>        <th>  R-squared:         </th> <td>   0.769</td>\n",
       "</tr>\n",
       "<tr>\n",
       "  <th>Model:</th>                   <td>OLS</td>       <th>  Adj. R-squared:    </th> <td>   0.756</td>\n",
       "</tr>\n",
       "<tr>\n",
       "  <th>Method:</th>             <td>Least Squares</td>  <th>  F-statistic:       </th> <td>   59.90</td>\n",
       "</tr>\n",
       "<tr>\n",
       "  <th>Date:</th>             <td>Mon, 08 Jul 2019</td> <th>  Prob (F-statistic):</th> <td>3.91e-07</td>\n",
       "</tr>\n",
       "<tr>\n",
       "  <th>Time:</th>                 <td>14:22:05</td>     <th>  Log-Likelihood:    </th> <td> -55.961</td>\n",
       "</tr>\n",
       "<tr>\n",
       "  <th>No. Observations:</th>      <td>    20</td>      <th>  AIC:               </th> <td>   115.9</td>\n",
       "</tr>\n",
       "<tr>\n",
       "  <th>Df Residuals:</th>          <td>    18</td>      <th>  BIC:               </th> <td>   117.9</td>\n",
       "</tr>\n",
       "<tr>\n",
       "  <th>Df Model:</th>              <td>     1</td>      <th>                     </th>     <td> </td>   \n",
       "</tr>\n",
       "<tr>\n",
       "  <th>Covariance Type:</th>      <td>nonrobust</td>    <th>                     </th>     <td> </td>   \n",
       "</tr>\n",
       "</table>\n",
       "<table class=\"simpletable\">\n",
       "<tr>\n",
       "    <td></td>       <th>coef</th>     <th>std err</th>      <th>t</th>      <th>P>|t|</th>  <th>[0.025</th>    <th>0.975]</th>  \n",
       "</tr>\n",
       "<tr>\n",
       "  <th>const</th> <td>    1.5225</td> <td>    1.667</td> <td>    0.913</td> <td> 0.373</td> <td>   -1.980</td> <td>    5.025</td>\n",
       "</tr>\n",
       "<tr>\n",
       "  <th>x1</th>    <td>    0.7493</td> <td>    0.097</td> <td>    7.740</td> <td> 0.000</td> <td>    0.546</td> <td>    0.953</td>\n",
       "</tr>\n",
       "</table>\n",
       "<table class=\"simpletable\">\n",
       "<tr>\n",
       "  <th>Omnibus:</th>       <td> 0.209</td> <th>  Durbin-Watson:     </th> <td>   1.625</td>\n",
       "</tr>\n",
       "<tr>\n",
       "  <th>Prob(Omnibus):</th> <td> 0.901</td> <th>  Jarque-Bera (JB):  </th> <td>   0.376</td>\n",
       "</tr>\n",
       "<tr>\n",
       "  <th>Skew:</th>          <td> 0.182</td> <th>  Prob(JB):          </th> <td>   0.829</td>\n",
       "</tr>\n",
       "<tr>\n",
       "  <th>Kurtosis:</th>      <td> 2.436</td> <th>  Cond. No.          </th> <td>    30.7</td>\n",
       "</tr>\n",
       "</table><br/><br/>Warnings:<br/>[1] Standard Errors assume that the covariance matrix of the errors is correctly specified."
      ],
      "text/plain": [
       "<class 'statsmodels.iolib.summary.Summary'>\n",
       "\"\"\"\n",
       "                            OLS Regression Results                            \n",
       "==============================================================================\n",
       "Dep. Variable:                      y   R-squared:                       0.769\n",
       "Model:                            OLS   Adj. R-squared:                  0.756\n",
       "Method:                 Least Squares   F-statistic:                     59.90\n",
       "Date:                Mon, 08 Jul 2019   Prob (F-statistic):           3.91e-07\n",
       "Time:                        14:22:05   Log-Likelihood:                -55.961\n",
       "No. Observations:                  20   AIC:                             115.9\n",
       "Df Residuals:                      18   BIC:                             117.9\n",
       "Df Model:                           1                                         \n",
       "Covariance Type:            nonrobust                                         \n",
       "==============================================================================\n",
       "                 coef    std err          t      P>|t|      [0.025      0.975]\n",
       "------------------------------------------------------------------------------\n",
       "const          1.5225      1.667      0.913      0.373      -1.980       5.025\n",
       "x1             0.7493      0.097      7.740      0.000       0.546       0.953\n",
       "==============================================================================\n",
       "Omnibus:                        0.209   Durbin-Watson:                   1.625\n",
       "Prob(Omnibus):                  0.901   Jarque-Bera (JB):                0.376\n",
       "Skew:                           0.182   Prob(JB):                        0.829\n",
       "Kurtosis:                       2.436   Cond. No.                         30.7\n",
       "==============================================================================\n",
       "\n",
       "Warnings:\n",
       "[1] Standard Errors assume that the covariance matrix of the errors is correctly specified.\n",
       "\"\"\""
      ]
     },
     "execution_count": 29,
     "metadata": {},
     "output_type": "execute_result"
    }
   ],
   "source": [
    "# linear regression -- we didn't cover it in the lectures\n",
    "# But here's how \n",
    "import statsmodels as sm\n",
    "import statsmodels.regression.linear_model as lm\n",
    "\n",
    "Y = np.array([1, 3, 4, 5, 2, 3, 4, 8, 12, 14, 11, 12, 23, 17, 14, 17, 18, 21, 25, 30])\n",
    "X = np.array([1, 2, 3, 4, 8, 6, 7, 9, 4, 17, 14, 15, 20, 31, 23, 25, 17, 20, 29, 30])\n",
    "X = sm.tools.tools.add_constant(X)  # adds a 1 to the data so the model can estimate a coefficient term\n",
    "\n",
    "# fit the model and display results \n",
    "model = lm.OLS(Y, X)\n",
    "results = model.fit()\n",
    "results.summary()"
   ]
  },
  {
   "cell_type": "code",
   "execution_count": null,
   "metadata": {},
   "outputs": [],
   "source": []
  }
 ],
 "metadata": {
  "kernelspec": {
   "display_name": "Python 3",
   "language": "python",
   "name": "python3"
  },
  "language_info": {
   "codemirror_mode": {
    "name": "ipython",
    "version": 3
   },
   "file_extension": ".py",
   "mimetype": "text/x-python",
   "name": "python",
   "nbconvert_exporter": "python",
   "pygments_lexer": "ipython3",
   "version": "3.6.8"
  }
 },
 "nbformat": 4,
 "nbformat_minor": 2
}
